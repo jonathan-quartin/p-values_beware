{
 "cells": [
  {
   "cell_type": "code",
   "execution_count": 1,
   "metadata": {},
   "outputs": [],
   "source": [
    "import random\n",
    "import numpy as np\n",
    "from sklearn.linear_model import LinearRegression\n",
    "import statsmodels.api as sm\n",
    "import matplotlib.pyplot as plt\n",
    "import math"
   ]
  },
  {
   "cell_type": "code",
   "execution_count": 26,
   "metadata": {},
   "outputs": [
    {
     "name": "stdout",
     "output_type": "stream",
     "text": [
      "{0: 465, 1: 369, 2: 135, 3: 26, 4: 4, 5: 1, 6: 0, 7: 0, 8: 0, 9: 0, 10: 0, 11: 0, 12: 0, 13: 0, 14: 0, 15: 0}\n"
     ]
    }
   ],
   "source": [
    "# In this file, we'll explore some of the ways that p-values can me misinterpreted.  \n",
    "# Let's do linear regressions for random inputs and random outputs.\n",
    "\n",
    "covariates = 15\n",
    "samples = 100\n",
    "tests = 1000\n",
    "reject_counts = {i:0 for i in range(covariates + 1)}\n",
    "\n",
    "for i in range(tests):\n",
    "    X = np.array([[random.random() for i in range(covariates + 1)] for j in range(samples)])\n",
    "    y = X[:,covariates]\n",
    "    count = 0\n",
    "    for j in range(covariates):\n",
    "        X_constants = sm.add_constant(X[:,j])\n",
    "        model_sm = sm.OLS(y, X_constants).fit()\n",
    "        p_values = model_sm.pvalues\n",
    "        if p_values[1] <= .05:\n",
    "            count += 1\n",
    "\n",
    "    reject_counts[count] += 1\n",
    "\n",
    "print(reject_counts)"
   ]
  },
  {
   "cell_type": "markdown",
   "metadata": {},
   "source": [
    "The number associated to 0 is the number of times that the regressions correctly reject correlations amongst all variables. For 15 covariates, 100 samples, and 1000 tests, this should happen only about 463 times. So more than half of the time, we will be making false correlations, since we know everything is random!"
   ]
  },
  {
   "cell_type": "code",
   "execution_count": 27,
   "metadata": {},
   "outputs": [
    {
     "name": "stdout",
     "output_type": "stream",
     "text": [
      "{0: 0.463, 1: 0.366, 2: 0.135, 3: 0.031, 4: 0.005, 5: 0.001, 6: 0.0, 7: 0.0, 8: 0.0, 9: 0.0, 10: 0.0, 11: 0.0, 12: 0.0, 13: 0.0, 14: 0.0, 15: 0.0}\n",
      "{0: 0.465, 1: 0.369, 2: 0.135, 3: 0.026, 4: 0.004, 5: 0.001, 6: 0.0, 7: 0.0, 8: 0.0, 9: 0.0, 10: 0.0, 11: 0.0, 12: 0.0, 13: 0.0, 14: 0.0, 15: 0.0}\n"
     ]
    }
   ],
   "source": [
    "# Computes probabilities assuming that the alpha error is precisely the chance of false correlation for each covariate.\n",
    "# Reject_counts, covariates, and tests are defined in the previous cell.\n",
    "\n",
    "probabilities = {}\n",
    "\n",
    "for i in range(covariates + 1):\n",
    "    prob = (math.factorial(covariates) / (math.factorial(i) * math.factorial(covariates-i))) * (.95)**(covariates-i) * (.05)**(i)\n",
    "    probabilities[i] = round(prob, 3)\n",
    "\n",
    "print(probabilities)\n",
    "\n",
    "# Let's compare these probabilities to the probabilities we got experimentally.\n",
    "\n",
    "for i in range(covariates + 1):\n",
    "    reject_counts[i] = round(reject_counts[i]/tests, 3)\n",
    "\n",
    "print(reject_counts)"
   ]
  },
  {
   "cell_type": "markdown",
   "metadata": {},
   "source": [
    "As the number of tests is increased, the dictionary of reject_counts will approach the dictionary of probabilities."
   ]
  }
 ],
 "metadata": {
  "kernelspec": {
   "display_name": "Python 3",
   "language": "python",
   "name": "python3"
  },
  "language_info": {
   "codemirror_mode": {
    "name": "ipython",
    "version": 3
   },
   "file_extension": ".py",
   "mimetype": "text/x-python",
   "name": "python",
   "nbconvert_exporter": "python",
   "pygments_lexer": "ipython3",
   "version": "3.9.12"
  },
  "orig_nbformat": 4
 },
 "nbformat": 4,
 "nbformat_minor": 2
}
